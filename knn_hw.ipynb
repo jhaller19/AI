{
  "nbformat": 4,
  "nbformat_minor": 0,
  "metadata": {
    "colab": {
      "provenance": [],
      "include_colab_link": true
    },
    "kernelspec": {
      "name": "python3",
      "display_name": "Python 3"
    },
    "language_info": {
      "name": "python"
    }
  },
  "cells": [
    {
      "cell_type": "markdown",
      "metadata": {
        "id": "view-in-github",
        "colab_type": "text"
      },
      "source": [
        "<a href=\"https://colab.research.google.com/github/jhaller19/AI/blob/main/knn_hw.ipynb\" target=\"_parent\"><img src=\"https://colab.research.google.com/assets/colab-badge.svg\" alt=\"Open In Colab\"/></a>"
      ]
    },
    {
      "cell_type": "markdown",
      "metadata": {
        "id": "PELNEMlpx2Ri"
      },
      "source": [
        "Import the libraries math (for square root and absolute value) and pandas and numpy for reading csv files."
      ]
    },
    {
      "cell_type": "code",
      "metadata": {
        "id": "mkYTODtExydl"
      },
      "source": [
        "import math\n",
        "import pandas as pd\n",
        "import numpy as np"
      ],
      "execution_count": null,
      "outputs": []
    },
    {
      "cell_type": "markdown",
      "metadata": {
        "id": "zCgb1pGFx8od"
      },
      "source": [
        "Make an untagged vector, point, and two tagged vectors, data1 and data2:"
      ]
    },
    {
      "cell_type": "code",
      "metadata": {
        "id": "Ifbww56byViT"
      },
      "source": [
        "point = [1, 0, 0, '?'] #(an unknown tag)\n",
        "data1 = [1, 1, 1, 'M']\n",
        "data2 = [1, 3, 0, 'F']\n"
      ],
      "execution_count": null,
      "outputs": []
    },
    {
      "cell_type": "markdown",
      "metadata": {
        "id": "2hiHzqnsyhW2"
      },
      "source": [
        "Write code to separate the data (X) from the tag (Y).  Your output should be:\n",
        "\n",
        "The vector [1, 1, 1] has tag M\n",
        "\n",
        "The vector [1, 3, 0] has tag F\n"
      ]
    },
    {
      "cell_type": "code",
      "metadata": {
        "id": "CdgKt99HyaKT",
        "colab": {
          "base_uri": "https://localhost:8080/"
        },
        "outputId": "7c536314-531a-4a6a-e300-50ed2ee411a4"
      },
      "source": [
        "print(\"The vector \" , data1[0:-1], \" has tag \", data1[-1])"
      ],
      "execution_count": null,
      "outputs": [
        {
          "output_type": "stream",
          "name": "stdout",
          "text": [
            "The vector  [1, 1, 1]  has tag  M\n"
          ]
        }
      ]
    },
    {
      "cell_type": "markdown",
      "metadata": {
        "id": "Nknnav39yb8C"
      },
      "source": [
        "Now let's classify the point as either M or F.  We'll do this by setting k = 1 and using the Euclidean distance.  We'll define that as: "
      ]
    },
    {
      "cell_type": "code",
      "metadata": {
        "id": "gT0HxYoxzG_-"
      },
      "source": [
        "def euclideanDistance(instance1, instance2, length):\n",
        "   distance = 0\n",
        "   for x in range(length):\n",
        "         #print ('x is ' , x)\n",
        "         num1=float(instance1[x])\n",
        "         num2=float(instance2[x])\n",
        "         distance = distance + pow(num1-num2, 2)\n",
        "   return math.sqrt(distance)\n"
      ],
      "execution_count": null,
      "outputs": []
    },
    {
      "cell_type": "markdown",
      "metadata": {
        "id": "RhO3w2O4zKG8"
      },
      "source": [
        "Now, find out the distance between data1 and point and data2 and point. Output what the tag should be using euclideanDistance."
      ]
    },
    {
      "cell_type": "code",
      "metadata": {
        "id": "rzHsm2KezPie",
        "colab": {
          "base_uri": "https://localhost:8080/"
        },
        "outputId": "27315d72-fd43-49ca-b90d-16676577aeaa"
      },
      "source": [
        "print(euclideanDistance(data1,point,3))"
      ],
      "execution_count": null,
      "outputs": [
        {
          "output_type": "stream",
          "name": "stdout",
          "text": [
            "1.4142135623730951\n"
          ]
        }
      ]
    },
    {
      "cell_type": "markdown",
      "metadata": {
        "id": "bImk9yPazRCS"
      },
      "source": [
        "Now, let's get more data from a file, myFile.csv. This code will read it for us:"
      ]
    },
    {
      "cell_type": "code",
      "metadata": {
        "id": "xeInyfvYzbKj",
        "colab": {
          "base_uri": "https://localhost:8080/"
        },
        "outputId": "d3e6b517-3227-401d-90dd-579253a5137c"
      },
      "source": [
        "url = 'https://github.com/rosenfa/ai/blob/master/myFile.csv?raw=true'\n",
        "df=pd.read_csv(url,  header=0, error_bad_lines=False) \n",
        "#put data in dataset without header line\n",
        "dataset = np.array(df)"
      ],
      "execution_count": null,
      "outputs": [
        {
          "output_type": "stream",
          "name": "stderr",
          "text": [
            "/usr/local/lib/python3.7/dist-packages/IPython/core/interactiveshell.py:3326: FutureWarning: The error_bad_lines argument has been deprecated and will be removed in a future version.\n",
            "\n",
            "\n",
            "  exec(code_obj, self.user_global_ns, self.user_ns)\n"
          ]
        }
      ]
    },
    {
      "cell_type": "markdown",
      "metadata": {
        "id": "X_1JLdAEzdhu"
      },
      "source": [
        "Show that you understand what you read by:\n",
        "\n",
        "1. Printing the first two vectors in the file\n",
        "2. Printing the Euclidean distance between those two vectors\n",
        "\n",
        "Here is some code which I think might help get you on your way!"
      ]
    },
    {
      "cell_type": "code",
      "metadata": {
        "id": "e4QT_37TzuWr",
        "colab": {
          "base_uri": "https://localhost:8080/"
        },
        "outputId": "b9806b49-ea11-4898-ee7e-49d599e05095"
      },
      "source": [
        "print(len(dataset))\n",
        "print(euclideanDistance(dataset[0],dataset[1],3))"
      ],
      "execution_count": null,
      "outputs": [
        {
          "output_type": "stream",
          "name": "stdout",
          "text": [
            "10\n",
            "5.744562646538029\n"
          ]
        }
      ]
    },
    {
      "cell_type": "markdown",
      "metadata": {
        "id": "Mw03nhZuEyUw"
      },
      "source": [
        "Now assume you have a new value for point:\n",
        "\n",
        "[0,0,100]\n",
        "\n",
        "How would you classify this vector using the Euclidean distance function given all of the vectors in the file?\n",
        "\n",
        "In order to help here is a hint:  \n",
        "\n",
        "We suggest defining some type of data struction to store different vectors' distances and their tags like this:"
      ]
    },
    {
      "cell_type": "code",
      "metadata": {
        "id": "oh8ym0_SE7Rb"
      },
      "source": [
        "class distClass:\n",
        "    dist = -1 #distance of current point from test point\n",
        "    tag = '-' #tag of current point\n"
      ],
      "execution_count": null,
      "outputs": []
    },
    {
      "cell_type": "markdown",
      "metadata": {
        "id": "-KZR5lxOFP2v"
      },
      "source": [
        "You can then add vector distances like this:"
      ]
    },
    {
      "cell_type": "code",
      "metadata": {
        "colab": {
          "base_uri": "https://localhost:8080/"
        },
        "id": "hdFwOHcCFScU",
        "outputId": "59fa3685-02b5-480f-fae3-9fc45f88390d"
      },
      "source": [
        "eucDistances = [] # list of distances, will hold objects of type distClass\n",
        "\n",
        "temp=dataset[1]\n",
        "label=temp[-1]\n",
        "d=euclideanDistance(point,temp,3)\n",
        "print(\"The distances between \" , point , \" and \" , temp,  \" is \" , str(d))\n",
        "print(\" and the label is \" + label)\n",
        "obj = distClass() #one record's distance and tag\n",
        "obj.dist=d\n",
        "obj.tag=label\n",
        "eucDistances.append(obj)\n"
      ],
      "execution_count": null,
      "outputs": [
        {
          "output_type": "stream",
          "name": "stdout",
          "text": [
            "The distances between  [1, 0, 0, '?']  and  [1 5 6 'F']  is  7.810249675906654\n",
            " and the label is F\n"
          ]
        }
      ]
    },
    {
      "cell_type": "code",
      "metadata": {
        "colab": {
          "base_uri": "https://localhost:8080/"
        },
        "id": "OTJBcLSJa8SR",
        "outputId": "933f963c-3c2d-4291-869c-93c8d9f227f6"
      },
      "source": [
        "eucDistances[0].dist"
      ],
      "execution_count": null,
      "outputs": [
        {
          "output_type": "execute_result",
          "data": {
            "text/plain": [
              "7.810249675906654"
            ]
          },
          "metadata": {},
          "execution_count": 10
        }
      ]
    },
    {
      "cell_type": "markdown",
      "metadata": {
        "id": "67seTigUFbW7"
      },
      "source": [
        "and sort them like this:"
      ]
    },
    {
      "cell_type": "code",
      "metadata": {
        "id": "J0rEdJXKFctw"
      },
      "source": [
        "eucDistances.sort(key=lambda x: x.dist) "
      ],
      "execution_count": null,
      "outputs": []
    },
    {
      "cell_type": "markdown",
      "metadata": {
        "id": "eWzp7vM9FgLm"
      },
      "source": [
        "Questions:\n",
        "\n",
        "1. What is the label for point if k=1?\n",
        "2. What is the label for point if k=3?\n",
        "3. Would the result be different if we used a different distance function like Hamming or Manhattan?"
      ]
    },
    {
      "cell_type": "code",
      "metadata": {
        "id": "tbHJ5OS5GeCw",
        "colab": {
          "base_uri": "https://localhost:8080/"
        },
        "outputId": "355489f3-928e-415c-b536-f65af7e20a63"
      },
      "source": [
        "#Add code with functions that implement Hamming and Manhattan distances and test \n",
        "#what the label will be for k=1 and k=3 for all possibilities \n",
        "#(6 total: 2 Euclidean, 2 Hamming and 2 Manhattan)\n",
        "def hamming(instance1, instance2, length):\n",
        "   distance = 0\n",
        "   for x in range(length):\n",
        "         num1=float(instance1[x])\n",
        "         num2=float(instance2[x])\n",
        "         if(num1 != num2):\n",
        "             distance += 1\n",
        "   return distance\n",
        "def manhattan(instance1, instance2, length):\n",
        "   distance = 0\n",
        "   for x in range(length):\n",
        "         num1=float(instance1[x])\n",
        "         num2=float(instance2[x])\n",
        "         distance += abs(num1-num2)\n",
        "   return distance\n",
        "\n",
        "def euclidknn(point,trainingDataset,length,k):\n",
        "  euclidianDistances = []\n",
        "  for trainingPoint in trainingDataset:\n",
        "    label=trainingPoint[-1]\n",
        "    d=euclideanDistance(point,trainingPoint,length)\n",
        "    obj = distClass() #one record's distance and tag\n",
        "    obj.dist=d\n",
        "    obj.tag=label\n",
        "    euclidianDistances.append(obj)\n",
        "  euclidianDistances.sort(key=lambda x: x.dist)\n",
        "  numF = 0\n",
        "  numM = 0\n",
        "  for i in range(k):\n",
        "    cur = euclidianDistances[i]\n",
        "    if cur.tag == \"F\":\n",
        "      numF+=1\n",
        "    else:\n",
        "      numM+=1\n",
        "  return \"F\" if numF > numM else \"M\"\n",
        "\n",
        "def hammingknn(point,trainingDataset,length,k):\n",
        "  hammingDistances = []\n",
        "  for trainingPoint in trainingDataset:\n",
        "    label=trainingPoint[-1]\n",
        "    d=hamming(point,trainingPoint,length)\n",
        "    #print(\"The distances between \" , point , \" and \" , trainingPoint,  \" is \" , str(d))\n",
        "    #print(\" and the label is \" + label)\n",
        "    obj = distClass() #one record's distance and tag\n",
        "    obj.dist=d\n",
        "    obj.tag=label\n",
        "    hammingDistances.append(obj)\n",
        "  hammingDistances.sort(key=lambda x: x.dist)\n",
        "  numF = 0\n",
        "  numM = 0\n",
        "  for i in range(k):\n",
        "    cur = hammingDistances[i]\n",
        "    if cur.tag == \"F\":\n",
        "      numF+=1\n",
        "    else:\n",
        "      numM+=1\n",
        "  return \"F\" if numF > numM else \"M\"\n",
        "\n",
        "def manhattanknn(point,trainingDataset,length,k):\n",
        "  manhattanDistances = []\n",
        "  for trainingPoint in trainingDataset:\n",
        "    label=trainingPoint[-1]\n",
        "    d=manhattan(point,trainingPoint,length)\n",
        "    #print(\"The distances between \" , point , \" and \" , trainingPoint,  \" is \" , str(d))\n",
        "    #print(\" and the label is \" + label)\n",
        "    obj = distClass() #one record's distance and tag\n",
        "    obj.dist=d\n",
        "    obj.tag=label\n",
        "    manhattanDistances.append(obj)\n",
        "  manhattanDistances.sort(key=lambda x: x.dist)\n",
        "  numF = 0\n",
        "  numM = 0\n",
        "  for i in range(k):\n",
        "    cur = manhattanDistances[i]\n",
        "    if cur.tag == \"F\":\n",
        "      numF+=1\n",
        "    else:\n",
        "      numM+=1\n",
        "  return \"F\" if numF > numM else \"M\"\n",
        "\n",
        "print(\"Euclidian (k=1): \" + str(euclidknn(point,dataset,3,1)))\n",
        "print(\"Euclidian (k=3): \" + str(euclidknn(point,dataset,3,3)))\n",
        "print(\"Hamming (k=1): \" + str(hammingknn(point,dataset,3,1)))\n",
        "print(\"Hamming (k=3): \" + str(hammingknn(point,dataset,3,3)))\n",
        "print(\"Manhattan (k=1): \" + str(manhattanknn(point,dataset,3,1)))\n",
        "print(\"Manhattan (k=3): \" + str(manhattanknn(point,dataset,3,3)))"
      ],
      "execution_count": null,
      "outputs": [
        {
          "output_type": "stream",
          "name": "stdout",
          "text": [
            "Euclidian (k=1): F\n",
            "Euclidian (k=3): F\n",
            "Hamming (k=1): F\n",
            "Hamming (k=3): M\n",
            "Manhattan (k=1): F\n",
            "Manhattan (k=3): F\n"
          ]
        }
      ]
    },
    {
      "cell_type": "markdown",
      "metadata": {
        "id": "o-XsqlSRVyEX"
      },
      "source": [
        "Up until here is a simplified version of the homework.\n",
        "Below here is the work for the part we will be checking as the basis of your grade: "
      ]
    },
    {
      "cell_type": "markdown",
      "metadata": {
        "id": "7KPzkCfLGxDK"
      },
      "source": [
        "Now let's look at some bigger files: \n",
        "\n",
        "1. mytrain.csv (for training the model)\n",
        "2. mytest.csv (for testing)\n"
      ]
    },
    {
      "cell_type": "code",
      "metadata": {
        "id": "menQ9SEoG_Ag"
      },
      "source": [
        "url = 'https://github.com/rosenfa/ai/blob/master/mytrain.csv?raw=true'\n",
        "train_data = np.array(pd.read_csv(url,  header=0, error_bad_lines=False))\n",
        "url = 'https://github.com/rosenfa/ai/blob/master/mytest.csv?raw=true'\n",
        "test_data = np.array(pd.read_csv(url,  header=0, error_bad_lines=False))"
      ],
      "execution_count": null,
      "outputs": []
    },
    {
      "cell_type": "code",
      "metadata": {
        "id": "ej1wLymKHPnT",
        "colab": {
          "base_uri": "https://localhost:8080/"
        },
        "outputId": "826b6d72-e418-4749-a6b8-1a23e7d7f9d6"
      },
      "source": [
        "print(train_data.shape)# number of records and features\n",
        "print(train_data)"
      ],
      "execution_count": null,
      "outputs": [
        {
          "output_type": "stream",
          "name": "stdout",
          "text": [
            "(100, 30)\n",
            "[[0.317251 0.540016 0.150514 ... 0.0 0.212007 'F']\n",
            " [3.882181 0.0 0.0 ... 0.0 0.0 'F']\n",
            " [1.790708 0.0 0.0 ... 0.0 0.0 'F']\n",
            " ...\n",
            " [0.0 0.0 0.0 ... 0.0 0.0 'M']\n",
            " [0.0 0.0 0.0 ... 0.0 0.0 'M']\n",
            " [0.0 0.0 0.0 ... 0.0 0.0 'F']]\n"
          ]
        }
      ]
    },
    {
      "cell_type": "code",
      "metadata": {
        "id": "v9YKMlcPHVWU",
        "colab": {
          "base_uri": "https://localhost:8080/"
        },
        "outputId": "e34b0440-68d1-4eff-f132-cdaa5a2bb32d"
      },
      "source": [
        "print(test_data.shape)# number of records and features\n",
        "print(test_data)"
      ],
      "execution_count": null,
      "outputs": [
        {
          "output_type": "stream",
          "name": "stdout",
          "text": [
            "(100, 30)\n",
            "[[2.85985 0.66275 0.0 ... 0.995289 0.0 'F']\n",
            " [0.0 12.998726 0.0 ... 0.0 0.0 'F']\n",
            " [13.231318 0.0 0.0 ... 0.0 0.0 'F']\n",
            " ...\n",
            " [0.0 0.0 0.0 ... 0.0 0.0 'M']\n",
            " [1.688611 0.0 3.204529 ... 0.0 0.0 'M']\n",
            " [0.0 0.0 0.0 ... 0.0 0.0 'M']]\n"
          ]
        }
      ]
    },
    {
      "cell_type": "markdown",
      "metadata": {
        "id": "hsjBpdObIB7d"
      },
      "source": [
        "I hope by now you understand where we are going with this :)\n",
        "\n",
        "Now implement the knn code with 3 different values for k:\n",
        "1. k = 1\n",
        "2. k = 7\n",
        "3. k = 15\n",
        "\n",
        "and at first use the Euclidean distance.\n",
        "Classify each of the vectors in the test_data dataset using the training data from train_data.  Which value for k did the best?  What accuracy did it give you?\n",
        "\n",
        "Now see if using Hamming or Manhattan distance give any better results for the same values of k.  \n",
        "\n",
        "Once you are done, you should have a total of 9 different results:\n",
        "\n",
        "1. Three results for the different value of k using the Euclidean Distance\n",
        "2. Three results for the different value of k using the Hamming Distance\n",
        "3. Three results for the different value of k using the Manhattan Distance\n",
        "\n",
        "Hint: I strongly suggest you base yourself on the code you've seen until this point so you don't have to reinvent the wheel!"
      ]
    },
    {
      "cell_type": "code",
      "metadata": {
        "id": "dIyZbN4kJBrO",
        "colab": {
          "base_uri": "https://localhost:8080/"
        },
        "outputId": "a84af518-6659-4eb0-ff76-27393ab5b810"
      },
      "source": [
        "#Add code here\n",
        "###########Euclidean##############\n",
        "i = 0\n",
        "kIsOneAccuracy = 0\n",
        "kIsSevenAccuracy = 0\n",
        "kIsFifteenAccuracy = 0\n",
        "for testPoint in test_data:\n",
        "  actualTag = testPoint[29]\n",
        "  res = euclidknn(testPoint,train_data,28,1) \n",
        "  #print(\"Euclidian (k=1) classified testpoint #\" + str(i)  + \" as \" + str(res))\n",
        "  if res == actualTag:\n",
        "    kIsOneAccuracy+=1\n",
        "  res = euclidknn(testPoint,train_data,28,7) \n",
        "  #print(\"Euclidian (k=7) classified testpoint #\" + str(i) + \" as \"+ str(res))\n",
        "  if res == actualTag:\n",
        "    kIsSevenAccuracy+=1\n",
        "  res = euclidknn(testPoint,train_data,28,15)\n",
        "  #print(\"Euclidian (k=15) classified testpoint #\" + str(i) + \" as \" + str(res))\n",
        "  if res == actualTag:\n",
        "    kIsFifteenAccuracy+=1\n",
        "  i+=1\n",
        "print(\"Euclidean (k=1) accuracy: \" + str((kIsOneAccuracy/100)))\n",
        "print(\"Euclidean (k=7) accuracy: \" + str((kIsSevenAccuracy/100)))\n",
        "print(\"Euclidean (k=15) accuracy: \" + str((kIsFifteenAccuracy/100)))\n",
        "\n",
        "\n"
      ],
      "execution_count": null,
      "outputs": [
        {
          "output_type": "stream",
          "name": "stdout",
          "text": [
            "Euclidean (k=1) accuracy: 0.5\n",
            "Euclidean (k=7) accuracy: 0.74\n",
            "Euclidean (k=15) accuracy: 0.7\n"
          ]
        }
      ]
    },
    {
      "cell_type": "code",
      "source": [
        "###########Hamming##############\n",
        "i = 0\n",
        "kIsOneAccuracy = 0\n",
        "kIsSevenAccuracy = 0\n",
        "kIsFifteenAccuracy = 0\n",
        "for testPoint in test_data:\n",
        "  actualTag = testPoint[29]\n",
        "  res = hammingknn(testPoint,train_data,28,1) \n",
        "  #print(\"Hamming (k=1) classified testpoint #\" + str(i)  + \" as \" + str(res))\n",
        "  if res == actualTag:\n",
        "    kIsOneAccuracy+=1\n",
        "  res = hammingknn(testPoint,train_data,28,7) \n",
        "  #print(\"Hamming (k=7) classified testpoint #\" + str(i) + \" as \"+ str(res))\n",
        "  if res == actualTag:\n",
        "    kIsSevenAccuracy+=1\n",
        "  res = hammingknn(testPoint,train_data,28,15) \n",
        "  #print(\"Hamming (k=15) classified testpoint #\" + str(i) + \" as \" + str(res))\n",
        "  if res == actualTag:\n",
        "    kIsFifteenAccuracy+=1\n",
        "  i+=1\n",
        "print(\"Hamming (k=1) accuracy: \" + str((kIsOneAccuracy/100)))\n",
        "print(\"Hamming (k=7) accuracy: \" + str((kIsSevenAccuracy/100)))\n",
        "print(\"Hamming (k=15) accuracy: \" + str((kIsFifteenAccuracy/100)))"
      ],
      "metadata": {
        "colab": {
          "base_uri": "https://localhost:8080/"
        },
        "id": "0WF7mrokWaAd",
        "outputId": "b004ec93-30cd-4048-bcae-17e34cad11b6"
      },
      "execution_count": null,
      "outputs": [
        {
          "output_type": "stream",
          "name": "stdout",
          "text": [
            "Hamming (k=1) accuracy: 0.61\n",
            "Hamming (k=7) accuracy: 0.55\n",
            "Hamming (k=15) accuracy: 0.57\n"
          ]
        }
      ]
    },
    {
      "cell_type": "code",
      "source": [
        "###########Manhattan##############\n",
        "i = 0\n",
        "kIsOneAccuracy = 0\n",
        "kIsSevenAccuracy = 0\n",
        "kIsFifteenAccuracy = 0\n",
        "for testPoint in test_data:\n",
        "  actualTag = testPoint[29]\n",
        "\n",
        "  res = manhattanknn(testPoint,train_data,28,1) \n",
        "  #print(\"Manhattan (k=1) classified testpoint #\" + str(i)  + \" as \" + str(res))\n",
        "  if res == actualTag:\n",
        "    kIsOneAccuracy+=1\n",
        "  res = manhattanknn(testPoint,train_data,28,7) \n",
        "  #print(\"Manhattan (k=7) classified testpoint #\" + str(i) + \" as \"+ str(res))\n",
        "  if res == actualTag:\n",
        "    kIsSevenAccuracy+=1\n",
        "  res = manhattanknn(testPoint,train_data,28,15) \n",
        "  #print(\"Manhattan (k=15) classified testpoint #\" + str(i) + \" as \" + str(res))\n",
        "  if res == actualTag:\n",
        "    kIsFifteenAccuracy+=1\n",
        "  i+=1\n",
        "print(\"Manhattan (k=1) accuracy: \" + str((kIsOneAccuracy/100)))\n",
        "print(\"Manhattan (k=7) accuracy: \" + str((kIsSevenAccuracy/100)))\n",
        "print(\"Manhattan (k=15) accuracy: \" + str((kIsFifteenAccuracy/100)))"
      ],
      "metadata": {
        "colab": {
          "base_uri": "https://localhost:8080/"
        },
        "id": "VV95yKHmZeb9",
        "outputId": "f2f8eda5-f056-450a-f996-d2b6faae7f19"
      },
      "execution_count": null,
      "outputs": [
        {
          "output_type": "stream",
          "name": "stdout",
          "text": [
            "Manhattan (k=1) accuracy: 0.61\n",
            "Manhattan (k=7) accuracy: 0.64\n",
            "Manhattan (k=15) accuracy: 0.69\n"
          ]
        }
      ]
    },
    {
      "cell_type": "markdown",
      "metadata": {
        "id": "HD2PnNuTQ175"
      },
      "source": [
        "Grade Basis:\n",
        "\n",
        "80% for correct answers (and yes, there are possibilities that multiple answers are correct-- especially for cases of ties).\n",
        "\n",
        "20% : Documentation and easily readable code\n",
        "\n",
        "Please publish your final Notebook in your Github directory.\n"
      ]
    }
  ]
}